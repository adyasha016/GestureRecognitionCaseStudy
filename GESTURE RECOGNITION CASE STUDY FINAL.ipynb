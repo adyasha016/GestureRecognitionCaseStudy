{
 "cells": [
  {
   "cell_type": "markdown",
   "metadata": {},
   "source": [
    "# Gesture Recognition Case Study\n"
   ]
  },
  {
   "cell_type": "code",
   "execution_count": 1,
   "metadata": {},
   "outputs": [],
   "source": [
    "import numpy as np\n",
    "import os\n",
    "from scipy.misc import imread, imresize\n",
    "import datetime\n",
    "import os\n",
    "import datetime"
   ]
  },
  {
   "cell_type": "markdown",
   "metadata": {},
   "source": [
    "We set the random seed so that the results don't vary drastically."
   ]
  },
  {
   "cell_type": "code",
   "execution_count": 2,
   "metadata": {},
   "outputs": [
    {
     "name": "stderr",
     "output_type": "stream",
     "text": [
      "Using TensorFlow backend.\n"
     ]
    }
   ],
   "source": [
    "np.random.seed(30)\n",
    "import random as rn\n",
    "rn.seed(30)\n",
    "from keras import backend as K\n",
    "import tensorflow as tf\n",
    "tf.set_random_seed(30)"
   ]
  },
  {
   "cell_type": "markdown",
   "metadata": {},
   "source": [
    "In this block, you read the folder names for training and validation. You also set the `batch_size` here. Note that you set the batch size in such a way that you are able to use the GPU in full capacity. You keep increasing the batch size until the machine throws an error."
   ]
  },
  {
   "cell_type": "code",
   "execution_count": 3,
   "metadata": {},
   "outputs": [],
   "source": [
    "train_doc = np.random.permutation(open('./Project_data/train.csv').readlines())\n",
    "val_doc = np.random.permutation(open('./Project_data/val.csv').readlines())\n",
    "batch_size = 20 #experiment with the batch size"
   ]
  },
  {
   "cell_type": "code",
   "execution_count": 4,
   "metadata": {},
   "outputs": [
    {
     "name": "stdout",
     "output_type": "stream",
     "text": [
      "(663,)\n",
      "(100,)\n",
      "20\n"
     ]
    }
   ],
   "source": [
    "print(train_doc.shape)\n",
    "print(val_doc.shape)\n",
    "print(batch_size)"
   ]
  },
  {
   "cell_type": "markdown",
   "metadata": {},
   "source": [
    "## Generator\n",
    "This is one of the most important part of the code. The overall structure of the generator has been given. In the generator, you are going to preprocess the images as you have images of 2 different dimensions as well as create a batch of video frames. You have to experiment with `img_idx`, `y`,`z` and normalization such that you get high accuracy."
   ]
  },
  {
   "cell_type": "code",
   "execution_count": 5,
   "metadata": {},
   "outputs": [],
   "source": [
    "def generator(source_path, folder_list, batch_size):\n",
    "    print( 'Source path = ', source_path, '; batch size =', batch_size)\n",
    "    img_idx = np.round(np.linspace(0,29,16)).astype(int) #create a list of image numbers you want to use for a particular video\n",
    "    while True:\n",
    "        t = np.random.permutation(folder_list)\n",
    "        num_batches = len(folder_list)//batch_size # calculate the number of batches\n",
    "        for batch in range(num_batches): # we iterate over the number of batches\n",
    "            batch_data = np.zeros((batch_size,len(img_idx),120,120,3)) # x is the number of images you use for each video, (y,z) is the final size of the input images and 3 is the number of channels RGB\n",
    "            batch_labels = np.zeros((batch_size,5)) # batch_labels is the one hot representation of the output\n",
    "            for folder in range(batch_size): # iterate over the batch_size\n",
    "                imgs = os.listdir(source_path+'/'+ t[folder + (batch*batch_size)].split(';')[0]) # read all the images in the folder\n",
    "                for idx,item in enumerate(img_idx): #  Iterate iver the frames/images of a folder to read them in\n",
    "                    image = imread(source_path+'/'+ t[folder + (batch*batch_size)].strip().split(';')[0]+'/'+imgs[item]).astype(np.float32)\n",
    "                    \n",
    "                    #crop the images and resize them. Note that the images are of 2 different shape \n",
    "                    #and the conv3D will throw error if the inputs in a batch have different shapes\n",
    "                    \n",
    "                    image = imresize(image,(120,120))\n",
    "\n",
    "                    batch_data[folder,idx,:,:,0] = (image[:,:,0])/255\n",
    "                    batch_data[folder,idx,:,:,1] = (image[:,:,1])/255\n",
    "                    batch_data[folder,idx,:,:,2] = (image[:,:,2])/255\n",
    "                    \n",
    "                    \n",
    "                batch_labels[folder, int(t[folder + (batch*batch_size)].strip().split(';')[2])] = 1\n",
    "            yield batch_data, batch_labels #you yield the batch_data and the batch_labels, remember what does yield do\n",
    "        rem_image = len(folder_list)%batch_size\n",
    "        batch += 1\n",
    "        if(rem_image!=0):\n",
    "            batch_data = np.zeros((rem_image,len(img_idx),120,120,3)) # x is the number of images you use for each video, (y,z) is the final size of the input images and 3 is the number of channels RGB\n",
    "            batch_labels = np.zeros((rem_image,5)) # batch_labels is the one hot representation of the output\n",
    "            for folder in range(rem_image): # iterate over the batch_size\n",
    "                imgs = os.listdir(source_path+'/'+ t[folder + (batch*batch_size)].split(';')[0]) # read all the images in the folder\n",
    "                for idx,item in enumerate(img_idx): #  Iterate iver the frames/images of a folder to read them in\n",
    "                    image = imread(source_path+'/'+ t[folder + (batch*batch_size)].strip().split(';')[0]+'/'+imgs[item]).astype(np.float32)\n",
    "                    \n",
    "                    #crop the images and resize them. Note that the images are of 2 different shape \n",
    "                    #and the conv3D will throw error if the inputs in a batch have different shapes\n",
    "                   \n",
    "                    image = imresize(image,(120,120))\n",
    "                    batch_data[folder,idx,:,:,0] = (image[:,:,0])/255\n",
    "                    batch_data[folder,idx,:,:,1] = (image[:,:,1])/255\n",
    "                    batch_data[folder,idx,:,:,2] = (image[:,:,2])/255\n",
    "                    \n",
    "                    \n",
    "                batch_labels[folder, int(t[folder + (batch*batch_size)].strip().split(';')[2])] = 1\n",
    "            yield batch_data, batch_labels\n",
    "            \n",
    "       "
   ]
  },
  {
   "cell_type": "markdown",
   "metadata": {},
   "source": [
    "Note here that a video is represented above in the generator as (number of images, height, width, number of channels). Take this into consideration while creating the model architecture."
   ]
  },
  {
   "cell_type": "code",
   "execution_count": 6,
   "metadata": {},
   "outputs": [
    {
     "name": "stdout",
     "output_type": "stream",
     "text": [
      "# training sequences = 663\n",
      "# validation sequences = 100\n",
      "# epochs = 20\n"
     ]
    }
   ],
   "source": [
    "curr_dt_time = datetime.datetime.now()\n",
    "train_path = './Project_data/train'\n",
    "val_path = './Project_data/val'\n",
    "num_train_sequences = len(train_doc)\n",
    "print('# training sequences =', num_train_sequences)\n",
    "num_val_sequences = len(val_doc)\n",
    "print('# validation sequences =', num_val_sequences)\n",
    "num_epochs = 20 # choose the number of epochs\n",
    "print ('# epochs =', num_epochs)\n",
    "num_classes = 5"
   ]
  },
  {
   "cell_type": "markdown",
   "metadata": {},
   "source": [
    "## Model\n",
    "\n",
    "Here we build the model using different functionalities that Keras provides. "
   ]
  },
  {
   "cell_type": "markdown",
   "metadata": {},
   "source": [
    "### MODEL 1 - CONV3D Model"
   ]
  },
  {
   "cell_type": "code",
   "execution_count": 7,
   "metadata": {},
   "outputs": [],
   "source": [
    "import keras as Keras\n",
    "from keras.models import Sequential, Model\n",
    "from keras.layers import Dense, GRU, Flatten, TimeDistributed, Flatten, BatchNormalization, Activation, Dropout\n",
    "from keras.layers.convolutional import Conv3D, MaxPooling3D, AveragePooling3D\n",
    "from keras.callbacks import ModelCheckpoint, ReduceLROnPlateau, EarlyStopping\n",
    "from keras import optimizers\n",
    "from keras.regularizers import l2\n",
    "from keras.layers import LSTM, GRU, Bidirectional, SimpleRNN, RNN\n",
    "\n",
    "filtersize=(3,3,3)\n",
    "dropout=0.5\n",
    "dense_neurons=256\n",
    "\n",
    "\n",
    "model = Sequential()\n",
    "\n",
    "model.add(Conv3D(16, filtersize, padding='same',input_shape=(16,120,120,3)))\n",
    "model.add(Activation('relu'))\n",
    "model.add(BatchNormalization())\n",
    "        \n",
    "model.add(Conv3D(16, filtersize, padding='same',input_shape=(16,120,120,3)))\n",
    "model.add(Activation('relu'))\n",
    "model.add(BatchNormalization())\n",
    "        \n",
    "model.add(MaxPooling3D(pool_size=(2, 2, 2)))\n",
    "\n",
    "model.add(Conv3D(32, filtersize, padding='same'))\n",
    "model.add(Activation('relu'))\n",
    "model.add(BatchNormalization())\n",
    "        \n",
    "model.add(Conv3D(32, filtersize, padding='same'))\n",
    "model.add(Activation('relu'))\n",
    "model.add(BatchNormalization())\n",
    "        \n",
    "model.add(MaxPooling3D(pool_size=(2, 2, 2)))\n",
    "\n",
    "model.add(Conv3D(64, filtersize, padding='same'))\n",
    "model.add(Activation('relu'))\n",
    "model.add(BatchNormalization())\n",
    "        \n",
    "model.add(Conv3D(64, filtersize, padding='same'))\n",
    "model.add(Activation('relu'))\n",
    "model.add(BatchNormalization())\n",
    "        \n",
    "model.add(MaxPooling3D(pool_size=(2, 2, 2)))\n",
    "\n",
    "model.add(Conv3D(128, filtersize, padding='same'))\n",
    "model.add(Activation('relu'))\n",
    "model.add(BatchNormalization())\n",
    "        \n",
    "model.add(Conv3D(128, filtersize, padding='same'))\n",
    "model.add(Activation('relu'))\n",
    "model.add(BatchNormalization())\n",
    "        \n",
    "model.add(MaxPooling3D(pool_size=(2, 2, 2)))\n",
    "        \n",
    "\n",
    "model.add(Flatten())\n",
    "model.add(Dense(dense_neurons,activation='relu'))\n",
    "model.add(BatchNormalization())\n",
    "model.add(Dropout(dropout))\n",
    "\n",
    "model.add(Dense(dense_neurons,activation='relu'))\n",
    "model.add(BatchNormalization())\n",
    "model.add(Dropout(dropout))\n",
    "\n",
    "model.add(Dense(num_classes,activation='softmax'))"
   ]
  },
  {
   "cell_type": "markdown",
   "metadata": {},
   "source": [
    "Now that you have written the model, the next step is to `compile` the model. When you print the `summary` of the model, you'll see the total number of parameters you have to train."
   ]
  },
  {
   "cell_type": "code",
   "execution_count": 8,
   "metadata": {
    "scrolled": false
   },
   "outputs": [
    {
     "name": "stdout",
     "output_type": "stream",
     "text": [
      "_________________________________________________________________\n",
      "Layer (type)                 Output Shape              Param #   \n",
      "=================================================================\n",
      "conv3d_1 (Conv3D)            (None, 16, 120, 120, 16)  1312      \n",
      "_________________________________________________________________\n",
      "activation_1 (Activation)    (None, 16, 120, 120, 16)  0         \n",
      "_________________________________________________________________\n",
      "batch_normalization_1 (Batch (None, 16, 120, 120, 16)  64        \n",
      "_________________________________________________________________\n",
      "conv3d_2 (Conv3D)            (None, 16, 120, 120, 16)  6928      \n",
      "_________________________________________________________________\n",
      "activation_2 (Activation)    (None, 16, 120, 120, 16)  0         \n",
      "_________________________________________________________________\n",
      "batch_normalization_2 (Batch (None, 16, 120, 120, 16)  64        \n",
      "_________________________________________________________________\n",
      "max_pooling3d_1 (MaxPooling3 (None, 8, 60, 60, 16)     0         \n",
      "_________________________________________________________________\n",
      "conv3d_3 (Conv3D)            (None, 8, 60, 60, 32)     13856     \n",
      "_________________________________________________________________\n",
      "activation_3 (Activation)    (None, 8, 60, 60, 32)     0         \n",
      "_________________________________________________________________\n",
      "batch_normalization_3 (Batch (None, 8, 60, 60, 32)     128       \n",
      "_________________________________________________________________\n",
      "conv3d_4 (Conv3D)            (None, 8, 60, 60, 32)     27680     \n",
      "_________________________________________________________________\n",
      "activation_4 (Activation)    (None, 8, 60, 60, 32)     0         \n",
      "_________________________________________________________________\n",
      "batch_normalization_4 (Batch (None, 8, 60, 60, 32)     128       \n",
      "_________________________________________________________________\n",
      "max_pooling3d_2 (MaxPooling3 (None, 4, 30, 30, 32)     0         \n",
      "_________________________________________________________________\n",
      "conv3d_5 (Conv3D)            (None, 4, 30, 30, 64)     55360     \n",
      "_________________________________________________________________\n",
      "activation_5 (Activation)    (None, 4, 30, 30, 64)     0         \n",
      "_________________________________________________________________\n",
      "batch_normalization_5 (Batch (None, 4, 30, 30, 64)     256       \n",
      "_________________________________________________________________\n",
      "conv3d_6 (Conv3D)            (None, 4, 30, 30, 64)     110656    \n",
      "_________________________________________________________________\n",
      "activation_6 (Activation)    (None, 4, 30, 30, 64)     0         \n",
      "_________________________________________________________________\n",
      "batch_normalization_6 (Batch (None, 4, 30, 30, 64)     256       \n",
      "_________________________________________________________________\n",
      "max_pooling3d_3 (MaxPooling3 (None, 2, 15, 15, 64)     0         \n",
      "_________________________________________________________________\n",
      "conv3d_7 (Conv3D)            (None, 2, 15, 15, 128)    221312    \n",
      "_________________________________________________________________\n",
      "activation_7 (Activation)    (None, 2, 15, 15, 128)    0         \n",
      "_________________________________________________________________\n",
      "batch_normalization_7 (Batch (None, 2, 15, 15, 128)    512       \n",
      "_________________________________________________________________\n",
      "conv3d_8 (Conv3D)            (None, 2, 15, 15, 128)    442496    \n",
      "_________________________________________________________________\n",
      "activation_8 (Activation)    (None, 2, 15, 15, 128)    0         \n",
      "_________________________________________________________________\n",
      "batch_normalization_8 (Batch (None, 2, 15, 15, 128)    512       \n",
      "_________________________________________________________________\n",
      "max_pooling3d_4 (MaxPooling3 (None, 1, 7, 7, 128)      0         \n",
      "_________________________________________________________________\n",
      "flatten_1 (Flatten)          (None, 6272)              0         \n",
      "_________________________________________________________________\n",
      "dense_1 (Dense)              (None, 256)               1605888   \n",
      "_________________________________________________________________\n",
      "batch_normalization_9 (Batch (None, 256)               1024      \n",
      "_________________________________________________________________\n",
      "dropout_1 (Dropout)          (None, 256)               0         \n",
      "_________________________________________________________________\n",
      "dense_2 (Dense)              (None, 256)               65792     \n",
      "_________________________________________________________________\n",
      "batch_normalization_10 (Batc (None, 256)               1024      \n",
      "_________________________________________________________________\n",
      "dropout_2 (Dropout)          (None, 256)               0         \n",
      "_________________________________________________________________\n",
      "dense_3 (Dense)              (None, 5)                 1285      \n",
      "=================================================================\n",
      "Total params: 2,556,533\n",
      "Trainable params: 2,554,549\n",
      "Non-trainable params: 1,984\n",
      "_________________________________________________________________\n",
      "None\n"
     ]
    }
   ],
   "source": [
    "optimiser = Keras.optimizers.Adam(lr=0.0002) #write your optimizer\n",
    "model.compile(optimizer=optimiser, loss='categorical_crossentropy', metrics=['categorical_accuracy'])\n",
    "print (model.summary())"
   ]
  },
  {
   "cell_type": "markdown",
   "metadata": {},
   "source": [
    "Let us create the `train_generator` and the `val_generator` which will be used in `.fit_generator`."
   ]
  },
  {
   "cell_type": "code",
   "execution_count": 9,
   "metadata": {},
   "outputs": [],
   "source": [
    "train_generator = generator(train_path, train_doc, batch_size)\n",
    "val_generator = generator(val_path, val_doc, batch_size)"
   ]
  },
  {
   "cell_type": "code",
   "execution_count": 10,
   "metadata": {},
   "outputs": [],
   "source": [
    "from keras.callbacks import EarlyStopping\n",
    "model_name = 'final_conv3d_model' + '_' + str(curr_dt_time).replace(' ','').replace(':','_') + '/'\n",
    "    \n",
    "if not os.path.exists(model_name):\n",
    "    os.mkdir(model_name)\n",
    "        \n",
    "filepath = model_name + 'model-{epoch:05d}-{loss:.5f}-{categorical_accuracy:.5f}-{val_loss:.5f}-{val_categorical_accuracy:.5f}.h5'\n",
    "\n",
    "checkpoint = ModelCheckpoint(filepath, monitor='val_loss', verbose=1, save_best_only=True, save_weights_only=False, mode='auto', period=1)\n",
    "LR = ReduceLROnPlateau(monitor='val_loss', factor=0.2, verbose=1, patience=4)\n",
    "        \n",
    "earlystop = EarlyStopping( monitor=\"val_loss\", min_delta=0,patience=10,verbose=1)\n",
    "\n",
    "callbacks_list = [checkpoint, LR, earlystop]"
   ]
  },
  {
   "cell_type": "markdown",
   "metadata": {},
   "source": [
    "The `steps_per_epoch` and `validation_steps` are used by `fit_generator` to decide the number of next() calls it need to make."
   ]
  },
  {
   "cell_type": "code",
   "execution_count": 11,
   "metadata": {},
   "outputs": [],
   "source": [
    "if (num_train_sequences%batch_size) == 0:\n",
    "    steps_per_epoch = int(num_train_sequences/batch_size)\n",
    "else:\n",
    "    steps_per_epoch = (num_train_sequences//batch_size) + 1\n",
    "\n",
    "if (num_val_sequences%batch_size) == 0:\n",
    "    validation_steps = int(num_val_sequences/batch_size)\n",
    "else:\n",
    "    validation_steps = (num_val_sequences//batch_size) + 1"
   ]
  },
  {
   "cell_type": "markdown",
   "metadata": {},
   "source": [
    "Let us now fit the model. This will start training the model and with the help of the checkpoints, you'll be able to save the model at the end of each epoch."
   ]
  },
  {
   "cell_type": "code",
   "execution_count": 12,
   "metadata": {
    "scrolled": false
   },
   "outputs": [
    {
     "name": "stdout",
     "output_type": "stream",
     "text": [
      "Source path =  ./Project_data/val ; batch size = 20\n",
      "Source path = Epoch 1/20\n",
      " ./Project_data/train ; batch size = 20\n"
     ]
    },
    {
     "name": "stderr",
     "output_type": "stream",
     "text": [
      "/mnt/disks/user/anaconda3/lib/python3.6/site-packages/ipykernel_launcher.py:13: DeprecationWarning: `imread` is deprecated!\n",
      "`imread` is deprecated in SciPy 1.0.0, and will be removed in 1.2.0.\n",
      "Use ``imageio.imread`` instead.\n",
      "  del sys.path[0]\n",
      "/mnt/disks/user/anaconda3/lib/python3.6/site-packages/ipykernel_launcher.py:18: DeprecationWarning: `imresize` is deprecated!\n",
      "`imresize` is deprecated in SciPy 1.0.0, and will be removed in 1.2.0.\n",
      "Use ``skimage.transform.resize`` instead.\n"
     ]
    },
    {
     "name": "stdout",
     "output_type": "stream",
     "text": [
      "32/34 [===========================>..] - ETA: 7s - loss: 2.1985 - categorical_accuracy: 0.3297 "
     ]
    },
    {
     "name": "stderr",
     "output_type": "stream",
     "text": [
      "/mnt/disks/user/anaconda3/lib/python3.6/site-packages/ipykernel_launcher.py:35: DeprecationWarning: `imread` is deprecated!\n",
      "`imread` is deprecated in SciPy 1.0.0, and will be removed in 1.2.0.\n",
      "Use ``imageio.imread`` instead.\n",
      "/mnt/disks/user/anaconda3/lib/python3.6/site-packages/ipykernel_launcher.py:40: DeprecationWarning: `imresize` is deprecated!\n",
      "`imresize` is deprecated in SciPy 1.0.0, and will be removed in 1.2.0.\n",
      "Use ``skimage.transform.resize`` instead.\n"
     ]
    },
    {
     "name": "stdout",
     "output_type": "stream",
     "text": [
      "34/34 [==============================] - 130s 4s/step - loss: 2.2374 - categorical_accuracy: 0.3304 - val_loss: 2.0560 - val_categorical_accuracy: 0.3600\n",
      "\n",
      "Epoch 00001: val_loss improved from inf to 2.05601, saving model to final_conv3d_model_2020-12-2813_26_17.224449/model-00001-2.19813-0.33032-2.05601-0.36000.h5\n",
      "Epoch 2/20\n",
      "34/34 [==============================] - 54s 2s/step - loss: 1.4959 - categorical_accuracy: 0.4871 - val_loss: 1.3539 - val_categorical_accuracy: 0.5500\n",
      "\n",
      "Epoch 00002: val_loss improved from 2.05601 to 1.35387, saving model to final_conv3d_model_2020-12-2813_26_17.224449/model-00002-1.52073-0.48265-1.35387-0.55000.h5\n",
      "Epoch 3/20\n",
      "34/34 [==============================] - 54s 2s/step - loss: 1.2129 - categorical_accuracy: 0.5438 - val_loss: 1.1926 - val_categorical_accuracy: 0.6500\n",
      "\n",
      "Epoch 00003: val_loss improved from 1.35387 to 1.19263, saving model to final_conv3d_model_2020-12-2813_26_17.224449/model-00003-1.22325-0.54902-1.19263-0.65000.h5\n",
      "Epoch 4/20\n",
      "34/34 [==============================] - 54s 2s/step - loss: 1.0766 - categorical_accuracy: 0.6049 - val_loss: 1.3362 - val_categorical_accuracy: 0.5700\n",
      "\n",
      "Epoch 00004: val_loss did not improve from 1.19263\n",
      "Epoch 5/20\n",
      "34/34 [==============================] - 56s 2s/step - loss: 0.9645 - categorical_accuracy: 0.6446 - val_loss: 0.9481 - val_categorical_accuracy: 0.6500\n",
      "\n",
      "Epoch 00005: val_loss improved from 1.19263 to 0.94811, saving model to final_conv3d_model_2020-12-2813_26_17.224449/model-00005-0.97352-0.64404-0.94811-0.65000.h5\n",
      "Epoch 6/20\n",
      "34/34 [==============================] - 54s 2s/step - loss: 0.8606 - categorical_accuracy: 0.6762 - val_loss: 0.9210 - val_categorical_accuracy: 0.6100\n",
      "\n",
      "Epoch 00006: val_loss improved from 0.94811 to 0.92099, saving model to final_conv3d_model_2020-12-2813_26_17.224449/model-00006-0.85904-0.68477-0.92099-0.61000.h5\n",
      "Epoch 7/20\n",
      "34/34 [==============================] - 53s 2s/step - loss: 0.8486 - categorical_accuracy: 0.6843 - val_loss: 0.8992 - val_categorical_accuracy: 0.6900\n",
      "\n",
      "Epoch 00007: val_loss improved from 0.92099 to 0.89916, saving model to final_conv3d_model_2020-12-2813_26_17.224449/model-00007-0.83630-0.70136-0.89916-0.69000.h5\n",
      "Epoch 8/20\n",
      "34/34 [==============================] - 53s 2s/step - loss: 0.8174 - categorical_accuracy: 0.6954 - val_loss: 2.3852 - val_categorical_accuracy: 0.4600\n",
      "\n",
      "Epoch 00008: val_loss did not improve from 0.89916\n",
      "Epoch 9/20\n",
      "34/34 [==============================] - 53s 2s/step - loss: 0.8126 - categorical_accuracy: 0.6829 - val_loss: 1.5359 - val_categorical_accuracy: 0.5200\n",
      "\n",
      "Epoch 00009: val_loss did not improve from 0.89916\n",
      "Epoch 10/20\n",
      "34/34 [==============================] - 53s 2s/step - loss: 0.6845 - categorical_accuracy: 0.7498 - val_loss: 0.9211 - val_categorical_accuracy: 0.6700\n",
      "\n",
      "Epoch 00010: val_loss did not improve from 0.89916\n",
      "Epoch 11/20\n",
      "34/34 [==============================] - 53s 2s/step - loss: 0.6962 - categorical_accuracy: 0.7211 - val_loss: 1.2246 - val_categorical_accuracy: 0.5600\n",
      "\n",
      "Epoch 00011: val_loss did not improve from 0.89916\n",
      "\n",
      "Epoch 00011: ReduceLROnPlateau reducing learning rate to 3.9999998989515007e-05.\n",
      "Epoch 12/20\n",
      "34/34 [==============================] - 53s 2s/step - loss: 0.5764 - categorical_accuracy: 0.7954 - val_loss: 0.8139 - val_categorical_accuracy: 0.7100\n",
      "\n",
      "Epoch 00012: val_loss improved from 0.89916 to 0.81394, saving model to final_conv3d_model_2020-12-2813_26_17.224449/model-00012-0.59035-0.79035-0.81394-0.71000.h5\n",
      "Epoch 13/20\n",
      "34/34 [==============================] - 53s 2s/step - loss: 0.4893 - categorical_accuracy: 0.8102 - val_loss: 0.6616 - val_categorical_accuracy: 0.7800\n",
      "\n",
      "Epoch 00013: val_loss improved from 0.81394 to 0.66163, saving model to final_conv3d_model_2020-12-2813_26_17.224449/model-00013-0.50046-0.80543-0.66163-0.78000.h5\n",
      "Epoch 14/20\n",
      "34/34 [==============================] - 53s 2s/step - loss: 0.4497 - categorical_accuracy: 0.8153 - val_loss: 0.6384 - val_categorical_accuracy: 0.8000\n",
      "\n",
      "Epoch 00014: val_loss improved from 0.66163 to 0.63840, saving model to final_conv3d_model_2020-12-2813_26_17.224449/model-00014-0.44926-0.81900-0.63840-0.80000.h5\n",
      "Epoch 15/20\n",
      "34/34 [==============================] - 53s 2s/step - loss: 0.4234 - categorical_accuracy: 0.8411 - val_loss: 0.6359 - val_categorical_accuracy: 0.8100\n",
      "\n",
      "Epoch 00015: val_loss improved from 0.63840 to 0.63589, saving model to final_conv3d_model_2020-12-2813_26_17.224449/model-00015-0.43346-0.83710-0.63589-0.81000.h5\n",
      "Epoch 16/20\n",
      "34/34 [==============================] - 53s 2s/step - loss: 0.3991 - categorical_accuracy: 0.8418 - val_loss: 0.6073 - val_categorical_accuracy: 0.8000\n",
      "\n",
      "Epoch 00016: val_loss improved from 0.63589 to 0.60730, saving model to final_conv3d_model_2020-12-2813_26_17.224449/model-00016-0.39260-0.84615-0.60730-0.80000.h5\n",
      "Epoch 17/20\n",
      "34/34 [==============================] - 53s 2s/step - loss: 0.4397 - categorical_accuracy: 0.8506 - val_loss: 0.5971 - val_categorical_accuracy: 0.8100\n",
      "\n",
      "Epoch 00017: val_loss improved from 0.60730 to 0.59714, saving model to final_conv3d_model_2020-12-2813_26_17.224449/model-00017-0.41421-0.85520-0.59714-0.81000.h5\n",
      "Epoch 18/20\n",
      "34/34 [==============================] - 53s 2s/step - loss: 0.3433 - categorical_accuracy: 0.8779 - val_loss: 0.5503 - val_categorical_accuracy: 0.8300\n",
      "\n",
      "Epoch 00018: val_loss improved from 0.59714 to 0.55025, saving model to final_conv3d_model_2020-12-2813_26_17.224449/model-00018-0.34749-0.87481-0.55025-0.83000.h5\n",
      "Epoch 19/20\n",
      "34/34 [==============================] - 53s 2s/step - loss: 0.3453 - categorical_accuracy: 0.8749 - val_loss: 0.5630 - val_categorical_accuracy: 0.8300\n",
      "\n",
      "Epoch 00019: val_loss did not improve from 0.55025\n",
      "Epoch 20/20\n",
      "34/34 [==============================] - 53s 2s/step - loss: 0.3357 - categorical_accuracy: 0.8940 - val_loss: 0.5564 - val_categorical_accuracy: 0.8500\n",
      "\n",
      "Epoch 00020: val_loss did not improve from 0.55025\n"
     ]
    },
    {
     "data": {
      "text/plain": [
       "<keras.callbacks.History at 0x7ff3f0037f28>"
      ]
     },
     "execution_count": 12,
     "metadata": {},
     "output_type": "execute_result"
    }
   ],
   "source": [
    "model.fit_generator(train_generator, steps_per_epoch=steps_per_epoch, epochs=num_epochs, verbose=1, \n",
    "                    callbacks=callbacks_list, validation_data=val_generator, \n",
    "                    validation_steps=validation_steps, class_weight=None, workers=1, initial_epoch=0)"
   ]
  },
  {
   "cell_type": "markdown",
   "metadata": {},
   "source": [
    "### Observation:\n",
    "\n",
    "    - The model shows training accuracy of 81% & validation accuracy of 80%. Also the accuracy of training and validation are seen to be increasing with every epoch. \n",
    "\n",
    "    - Also the validation loss is seen to be decreasing with every epoch."
   ]
  },
  {
   "cell_type": "markdown",
   "metadata": {},
   "source": [
    "### MODEL 2 - CONV2D + LSTM Model"
   ]
  },
  {
   "cell_type": "code",
   "execution_count": 13,
   "metadata": {},
   "outputs": [],
   "source": [
    "from keras.layers.convolutional import Conv2D, MaxPooling2D, AveragePooling2D"
   ]
  },
  {
   "cell_type": "code",
   "execution_count": 20,
   "metadata": {},
   "outputs": [],
   "source": [
    "\n",
    "model_2 = Sequential()\n",
    "\n",
    "model_2.add(TimeDistributed(Conv2D(16, (3, 3) , padding='same', activation='relu'),input_shape=(16, 120, 120, 3)))\n",
    "model_2.add(TimeDistributed(BatchNormalization()))\n",
    "model_2.add(TimeDistributed(MaxPooling2D((2, 2))))\n",
    "        \n",
    "model_2.add(TimeDistributed(Conv2D(32, (3, 3) , padding='same', activation='relu')))\n",
    "model_2.add(TimeDistributed(BatchNormalization()))\n",
    "model_2.add(TimeDistributed(MaxPooling2D((2, 2))))\n",
    "        \n",
    "model_2.add(TimeDistributed(Conv2D(64, (3, 3) , padding='same', activation='relu')))\n",
    "model_2.add(TimeDistributed(BatchNormalization()))\n",
    "model_2.add(TimeDistributed(MaxPooling2D((2, 2))))\n",
    "model_2.add(TimeDistributed(Conv2D(128, (3, 3) , padding='same', activation='relu')))\n",
    "model_2.add(TimeDistributed(BatchNormalization()))\n",
    "model_2.add(TimeDistributed(MaxPooling2D((2, 2))))\n",
    "        \n",
    "model_2.add(TimeDistributed(Conv2D(256, (3, 3) , padding='same', activation='relu')))\n",
    "model_2.add(TimeDistributed(BatchNormalization()))\n",
    "model_2.add(TimeDistributed(MaxPooling2D((2, 2))))\n",
    "model_2.add(TimeDistributed(Flatten()))\n",
    "model_2.add(LSTM(256))\n",
    "model_2.add(Dropout(0.25))\n",
    "        \n",
    "model_2.add(Dense(128,activation='relu'))\n",
    "model_2.add(Dropout(0.25))\n",
    "model_2.add(Dense(num_classes, activation='softmax'))"
   ]
  },
  {
   "cell_type": "code",
   "execution_count": 21,
   "metadata": {},
   "outputs": [
    {
     "name": "stdout",
     "output_type": "stream",
     "text": [
      "_________________________________________________________________\n",
      "Layer (type)                 Output Shape              Param #   \n",
      "=================================================================\n",
      "time_distributed_17 (TimeDis (None, 16, 120, 120, 16)  448       \n",
      "_________________________________________________________________\n",
      "time_distributed_18 (TimeDis (None, 16, 120, 120, 16)  64        \n",
      "_________________________________________________________________\n",
      "time_distributed_19 (TimeDis (None, 16, 60, 60, 16)    0         \n",
      "_________________________________________________________________\n",
      "time_distributed_20 (TimeDis (None, 16, 60, 60, 32)    4640      \n",
      "_________________________________________________________________\n",
      "time_distributed_21 (TimeDis (None, 16, 60, 60, 32)    128       \n",
      "_________________________________________________________________\n",
      "time_distributed_22 (TimeDis (None, 16, 30, 30, 32)    0         \n",
      "_________________________________________________________________\n",
      "time_distributed_23 (TimeDis (None, 16, 30, 30, 64)    18496     \n",
      "_________________________________________________________________\n",
      "time_distributed_24 (TimeDis (None, 16, 30, 30, 64)    256       \n",
      "_________________________________________________________________\n",
      "time_distributed_25 (TimeDis (None, 16, 15, 15, 64)    0         \n",
      "_________________________________________________________________\n",
      "time_distributed_26 (TimeDis (None, 16, 15, 15, 128)   73856     \n",
      "_________________________________________________________________\n",
      "time_distributed_27 (TimeDis (None, 16, 15, 15, 128)   512       \n",
      "_________________________________________________________________\n",
      "time_distributed_28 (TimeDis (None, 16, 7, 7, 128)     0         \n",
      "_________________________________________________________________\n",
      "time_distributed_29 (TimeDis (None, 16, 7, 7, 256)     295168    \n",
      "_________________________________________________________________\n",
      "time_distributed_30 (TimeDis (None, 16, 7, 7, 256)     1024      \n",
      "_________________________________________________________________\n",
      "time_distributed_31 (TimeDis (None, 16, 3, 3, 256)     0         \n",
      "_________________________________________________________________\n",
      "time_distributed_32 (TimeDis (None, 16, 2304)          0         \n",
      "_________________________________________________________________\n",
      "lstm_2 (LSTM)                (None, 256)               2622464   \n",
      "_________________________________________________________________\n",
      "dropout_5 (Dropout)          (None, 256)               0         \n",
      "_________________________________________________________________\n",
      "dense_6 (Dense)              (None, 128)               32896     \n",
      "_________________________________________________________________\n",
      "dropout_6 (Dropout)          (None, 128)               0         \n",
      "_________________________________________________________________\n",
      "dense_7 (Dense)              (None, 5)                 645       \n",
      "=================================================================\n",
      "Total params: 3,050,597\n",
      "Trainable params: 3,049,605\n",
      "Non-trainable params: 992\n",
      "_________________________________________________________________\n",
      "None\n"
     ]
    }
   ],
   "source": [
    "optimiser = Keras.optimizers.Adam(lr=0.0001) #write your optimizer\n",
    "model_2.compile(optimizer=optimiser, loss='categorical_crossentropy', metrics=['categorical_accuracy'])\n",
    "print (model_2.summary())"
   ]
  },
  {
   "cell_type": "code",
   "execution_count": 22,
   "metadata": {},
   "outputs": [],
   "source": [
    "train_generator = generator(train_path, train_doc, batch_size)\n",
    "val_generator = generator(val_path, val_doc, batch_size)"
   ]
  },
  {
   "cell_type": "code",
   "execution_count": 23,
   "metadata": {},
   "outputs": [],
   "source": [
    "model_name = 'final_conv2d+lstm_model' + '_' + str(curr_dt_time).replace(' ','').replace(':','_') + '/'\n",
    "    \n",
    "if not os.path.exists(model_name):\n",
    "    os.mkdir(model_name)\n",
    "        \n",
    "filepath = model_name + 'model-{epoch:05d}-{loss:.5f}-{categorical_accuracy:.5f}-{val_loss:.5f}-{val_categorical_accuracy:.5f}.h5'\n",
    "\n",
    "\n",
    "checkpoint = ModelCheckpoint(filepath, monitor='val_loss', verbose=1, save_best_only=True, save_weights_only=False, mode='auto', period=1)\n",
    "LR = ReduceLROnPlateau(monitor='val_loss', factor=0.2, verbose=1, patience=5)\n",
    "        \n",
    "# earlystop = EarlyStopping( monitor=\"val_loss\", min_delta=0,patience=10,verbose=1)\n",
    "callbacks_list = [checkpoint, LR]"
   ]
  },
  {
   "cell_type": "code",
   "execution_count": 24,
   "metadata": {},
   "outputs": [],
   "source": [
    "if (num_train_sequences%batch_size) == 0:\n",
    "    steps_per_epoch = int(num_train_sequences/batch_size)\n",
    "else:\n",
    "    steps_per_epoch = (num_train_sequences//batch_size) + 1\n",
    "\n",
    "if (num_val_sequences%batch_size) == 0:\n",
    "    validation_steps = int(num_val_sequences/batch_size)\n",
    "else:\n",
    "    validation_steps = (num_val_sequences//batch_size) + 1"
   ]
  },
  {
   "cell_type": "code",
   "execution_count": 25,
   "metadata": {
    "scrolled": false
   },
   "outputs": [
    {
     "name": "stdout",
     "output_type": "stream",
     "text": [
      "Source path =  ./Project_data/val ; batch size = 20\n",
      "Source path =  ./Project_data/train ; batch size = 20\n",
      "Epoch 1/20\n"
     ]
    },
    {
     "name": "stderr",
     "output_type": "stream",
     "text": [
      "/mnt/disks/user/anaconda3/lib/python3.6/site-packages/ipykernel_launcher.py:13: DeprecationWarning: `imread` is deprecated!\n",
      "`imread` is deprecated in SciPy 1.0.0, and will be removed in 1.2.0.\n",
      "Use ``imageio.imread`` instead.\n",
      "  del sys.path[0]\n",
      "/mnt/disks/user/anaconda3/lib/python3.6/site-packages/ipykernel_launcher.py:18: DeprecationWarning: `imresize` is deprecated!\n",
      "`imresize` is deprecated in SciPy 1.0.0, and will be removed in 1.2.0.\n",
      "Use ``skimage.transform.resize`` instead.\n"
     ]
    },
    {
     "name": "stdout",
     "output_type": "stream",
     "text": [
      "32/34 [===========================>..] - ETA: 2s - loss: 1.6456 - categorical_accuracy: 0.2531"
     ]
    },
    {
     "name": "stderr",
     "output_type": "stream",
     "text": [
      "/mnt/disks/user/anaconda3/lib/python3.6/site-packages/ipykernel_launcher.py:35: DeprecationWarning: `imread` is deprecated!\n",
      "`imread` is deprecated in SciPy 1.0.0, and will be removed in 1.2.0.\n",
      "Use ``imageio.imread`` instead.\n",
      "/mnt/disks/user/anaconda3/lib/python3.6/site-packages/ipykernel_launcher.py:40: DeprecationWarning: `imresize` is deprecated!\n",
      "`imresize` is deprecated in SciPy 1.0.0, and will be removed in 1.2.0.\n",
      "Use ``skimage.transform.resize`` instead.\n"
     ]
    },
    {
     "name": "stdout",
     "output_type": "stream",
     "text": [
      "34/34 [==============================] - 42s 1s/step - loss: 1.6327 - categorical_accuracy: 0.2583 - val_loss: 1.4005 - val_categorical_accuracy: 0.5100\n",
      "\n",
      "Epoch 00001: val_loss improved from inf to 1.40054, saving model to final_conv2d+lstm_model_2020-12-2813_26_17.224449/model-00001-1.63957-0.25641-1.40054-0.51000.h5\n",
      "Epoch 2/20\n",
      "34/34 [==============================] - 34s 1s/step - loss: 1.2152 - categorical_accuracy: 0.5475 - val_loss: 1.2025 - val_categorical_accuracy: 0.5500\n",
      "\n",
      "Epoch 00002: val_loss improved from 1.40054 to 1.20253, saving model to final_conv2d+lstm_model_2020-12-2813_26_17.224449/model-00002-1.21469-0.54449-1.20253-0.55000.h5\n",
      "Epoch 3/20\n",
      "34/34 [==============================] - 37s 1s/step - loss: 1.0038 - categorical_accuracy: 0.6578 - val_loss: 1.0888 - val_categorical_accuracy: 0.5900\n",
      "\n",
      "Epoch 00003: val_loss improved from 1.20253 to 1.08877, saving model to final_conv2d+lstm_model_2020-12-2813_26_17.224449/model-00003-1.00984-0.65762-1.08877-0.59000.h5\n",
      "Epoch 4/20\n",
      "34/34 [==============================] - 37s 1s/step - loss: 0.7615 - categorical_accuracy: 0.7388 - val_loss: 1.0819 - val_categorical_accuracy: 0.5600\n",
      "\n",
      "Epoch 00004: val_loss improved from 1.08877 to 1.08190, saving model to final_conv2d+lstm_model_2020-12-2813_26_17.224449/model-00004-0.76418-0.74057-1.08190-0.56000.h5\n",
      "Epoch 5/20\n",
      "34/34 [==============================] - 37s 1s/step - loss: 0.6304 - categorical_accuracy: 0.7976 - val_loss: 0.9558 - val_categorical_accuracy: 0.6100\n",
      "\n",
      "Epoch 00005: val_loss improved from 1.08190 to 0.95581, saving model to final_conv2d+lstm_model_2020-12-2813_26_17.224449/model-00005-0.62575-0.80090-0.95581-0.61000.h5\n",
      "Epoch 6/20\n",
      "34/34 [==============================] - 37s 1s/step - loss: 0.5270 - categorical_accuracy: 0.8359 - val_loss: 0.9040 - val_categorical_accuracy: 0.6400\n",
      "\n",
      "Epoch 00006: val_loss improved from 0.95581 to 0.90402, saving model to final_conv2d+lstm_model_2020-12-2813_26_17.224449/model-00006-0.51596-0.84012-0.90402-0.64000.h5\n",
      "Epoch 7/20\n",
      "34/34 [==============================] - 37s 1s/step - loss: 0.3826 - categorical_accuracy: 0.8992 - val_loss: 0.9512 - val_categorical_accuracy: 0.6300\n",
      "\n",
      "Epoch 00007: val_loss did not improve from 0.90402\n",
      "Epoch 8/20\n",
      "34/34 [==============================] - 37s 1s/step - loss: 0.2944 - categorical_accuracy: 0.9375 - val_loss: 0.9990 - val_categorical_accuracy: 0.5700\n",
      "\n",
      "Epoch 00008: val_loss did not improve from 0.90402\n",
      "Epoch 9/20\n",
      "34/34 [==============================] - 37s 1s/step - loss: 0.2372 - categorical_accuracy: 0.9492 - val_loss: 0.9323 - val_categorical_accuracy: 0.6400\n",
      "\n",
      "Epoch 00009: val_loss did not improve from 0.90402\n",
      "Epoch 10/20\n",
      "34/34 [==============================] - 38s 1s/step - loss: 0.1795 - categorical_accuracy: 0.9750 - val_loss: 0.9378 - val_categorical_accuracy: 0.6400\n",
      "\n",
      "Epoch 00010: val_loss did not improve from 0.90402\n",
      "Epoch 11/20\n",
      "34/34 [==============================] - 37s 1s/step - loss: 0.1499 - categorical_accuracy: 0.9706 - val_loss: 0.9491 - val_categorical_accuracy: 0.6700\n",
      "\n",
      "Epoch 00011: val_loss did not improve from 0.90402\n",
      "\n",
      "Epoch 00011: ReduceLROnPlateau reducing learning rate to 1.9999999494757503e-05.\n",
      "Epoch 12/20\n",
      "34/34 [==============================] - 37s 1s/step - loss: 0.0960 - categorical_accuracy: 0.9941 - val_loss: 0.9256 - val_categorical_accuracy: 0.6700\n",
      "\n",
      "Epoch 00012: val_loss did not improve from 0.90402\n",
      "Epoch 13/20\n",
      "34/34 [==============================] - 37s 1s/step - loss: 0.0924 - categorical_accuracy: 0.9912 - val_loss: 0.9230 - val_categorical_accuracy: 0.6300\n",
      "\n",
      "Epoch 00013: val_loss did not improve from 0.90402\n",
      "Epoch 14/20\n",
      "34/34 [==============================] - 37s 1s/step - loss: 0.0811 - categorical_accuracy: 0.9956 - val_loss: 0.9175 - val_categorical_accuracy: 0.6500\n",
      "\n",
      "Epoch 00014: val_loss did not improve from 0.90402\n",
      "Epoch 15/20\n",
      "34/34 [==============================] - 37s 1s/step - loss: 0.0853 - categorical_accuracy: 0.9845 - val_loss: 0.8983 - val_categorical_accuracy: 0.6600\n",
      "\n",
      "Epoch 00015: val_loss improved from 0.90402 to 0.89833, saving model to final_conv2d+lstm_model_2020-12-2813_26_17.224449/model-00015-0.07308-0.99246-0.89833-0.66000.h5\n",
      "Epoch 16/20\n",
      "34/34 [==============================] - 38s 1s/step - loss: 0.0704 - categorical_accuracy: 1.0000 - val_loss: 0.9058 - val_categorical_accuracy: 0.6200\n",
      "\n",
      "Epoch 00016: val_loss did not improve from 0.89833\n",
      "Epoch 17/20\n",
      "34/34 [==============================] - 38s 1s/step - loss: 0.0682 - categorical_accuracy: 0.9956 - val_loss: 0.9274 - val_categorical_accuracy: 0.6300\n",
      "\n",
      "Epoch 00017: val_loss did not improve from 0.89833\n",
      "Epoch 18/20\n",
      "34/34 [==============================] - 38s 1s/step - loss: 0.0632 - categorical_accuracy: 0.9941 - val_loss: 0.9286 - val_categorical_accuracy: 0.6200\n",
      "\n",
      "Epoch 00018: val_loss did not improve from 0.89833\n",
      "Epoch 19/20\n",
      "34/34 [==============================] - 38s 1s/step - loss: 0.0582 - categorical_accuracy: 0.9971 - val_loss: 0.9338 - val_categorical_accuracy: 0.6300\n",
      "\n",
      "Epoch 00019: val_loss did not improve from 0.89833\n",
      "Epoch 20/20\n",
      "34/34 [==============================] - 38s 1s/step - loss: 0.0569 - categorical_accuracy: 0.9971 - val_loss: 0.9366 - val_categorical_accuracy: 0.6200\n",
      "\n",
      "Epoch 00020: val_loss did not improve from 0.89833\n",
      "\n",
      "Epoch 00020: ReduceLROnPlateau reducing learning rate to 3.999999898951501e-06.\n"
     ]
    },
    {
     "data": {
      "text/plain": [
       "<keras.callbacks.History at 0x7ff3c833f278>"
      ]
     },
     "execution_count": 25,
     "metadata": {},
     "output_type": "execute_result"
    }
   ],
   "source": [
    "model_2.fit_generator(train_generator, steps_per_epoch=steps_per_epoch, epochs=num_epochs, verbose=1, \n",
    "                    callbacks=callbacks_list, validation_data=val_generator, \n",
    "                    validation_steps=validation_steps, class_weight=None, workers=1, initial_epoch=0)"
   ]
  },
  {
   "cell_type": "code",
   "execution_count": null,
   "metadata": {},
   "outputs": [],
   "source": []
  },
  {
   "cell_type": "markdown",
   "metadata": {},
   "source": [
    "### Observation:\n",
    "\n",
    "    - The Conv2DLSTM model shows a good training accuracy as can be seen above, but validation accuracy does not improve much.\n"
   ]
  },
  {
   "cell_type": "code",
   "execution_count": null,
   "metadata": {},
   "outputs": [],
   "source": []
  },
  {
   "cell_type": "markdown",
   "metadata": {},
   "source": [
    "## CONCLUSION:\n",
    "\n",
    "   -  We have considered the CONV3D model as our final model as the accuracy and val loss obtained are much better as comapred to the CONV2D LSTM model\n",
    "\n",
    "\n",
    "   -  Training Accuracy and Validation Accuracy of the Conv3D model is seen to gradually increasing with validation loss decreasing for every epoch. \n",
    "\n",
    "    - Best Training accuracy (as seen at epoch 14) - 0.8153 \n",
    "    \n",
    "    - Best Validation Accuracy(as seen at epoch 14) - 0.8000\n",
    "    \n",
    "    - Best Model Weights : model-00014-0.44926-0.81900-0.63840-0.80000.h5"
   ]
  }
 ],
 "metadata": {
  "kernelspec": {
   "display_name": "Python 3",
   "language": "python",
   "name": "python3"
  },
  "language_info": {
   "codemirror_mode": {
    "name": "ipython",
    "version": 3
   },
   "file_extension": ".py",
   "mimetype": "text/x-python",
   "name": "python",
   "nbconvert_exporter": "python",
   "pygments_lexer": "ipython3",
   "version": "3.7.4"
  }
 },
 "nbformat": 4,
 "nbformat_minor": 2
}
